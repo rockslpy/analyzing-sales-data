{
  "cells":[
    {
      "cell_type":"markdown",
      "source":[
        "# Project"
      ],
      "attachments":{
        
      },
      "metadata":{
        "jupyter":{
          "source_hidden":false,
          "outputs_hidden":false
        },
        "datalore":{
          "sheet_delimiter":true
        }
      }
    },
    {
      "cell_type":"markdown",
      "source":[
        "# Final Project - Analyzing Sales Data\n",
        "\n",
        "**Date**: 2 February 2021\n",
        "\n",
        "**Author**: Saharat Pholcharoen (Rock Future Data Scientist)\n",
        "\n",
        "**Course**: `Pandas Foundation`"
      ],
      "attachments":{
        
      },
      "metadata":{
        "jupyter":{
          "source_hidden":false,
          "outputs_hidden":false
        },
        "datalore":{
          "type":"MD",
          "sheet_delimiter":false
        }
      }
    },
    {
      "cell_type":"code",
      "source":[
        "# import data\n",
        "import pandas as pd\n",
        "df = pd.read_csv(\"sample-store.csv\")"
      ],
      "execution_count":1,
      "outputs":[
        
      ],
      "metadata":{
        "jupyter":{
          "source_hidden":false,
          "outputs_hidden":false
        },
        "datalore":{
          "type":"CODE",
          "sheet_delimiter":false
        }
      }
    },
    {
      "cell_type":"code",
      "source":[
        "# preview top 5 rows\n",
        "df.head()"
      ],
      "execution_count":2,
      "outputs":[
        {
          "data":{
            "text\/html":[
              "<div>\n",
              "<style scoped>\n",
              "    .dataframe tbody tr th:only-of-type {\n",
              "        vertical-align: middle;\n",
              "    }\n",
              "\n",
              "    .dataframe tbody tr th {\n",
              "        vertical-align: top;\n",
              "    }\n",
              "\n",
              "    .dataframe thead th {\n",
              "        text-align: right;\n",
              "    }\n",
              "<\/style>\n",
              "<table border=\"1\" class=\"dataframe\">\n",
              "  <thead>\n",
              "    <tr style=\"text-align: right;\">\n",
              "      <th><\/th>\n",
              "      <th>Row ID<\/th>\n",
              "      <th>Order ID<\/th>\n",
              "      <th>Order Date<\/th>\n",
              "      <th>Ship Date<\/th>\n",
              "      <th>Ship Mode<\/th>\n",
              "      <th>Customer ID<\/th>\n",
              "      <th>Customer Name<\/th>\n",
              "      <th>Segment<\/th>\n",
              "      <th>Country\/Region<\/th>\n",
              "      <th>City<\/th>\n",
              "      <th>...<\/th>\n",
              "      <th>Postal Code<\/th>\n",
              "      <th>Region<\/th>\n",
              "      <th>Product ID<\/th>\n",
              "      <th>Category<\/th>\n",
              "      <th>Sub-Category<\/th>\n",
              "      <th>Product Name<\/th>\n",
              "      <th>Sales<\/th>\n",
              "      <th>Quantity<\/th>\n",
              "      <th>Discount<\/th>\n",
              "      <th>Profit<\/th>\n",
              "    <\/tr>\n",
              "  <\/thead>\n",
              "  <tbody>\n",
              "    <tr>\n",
              "      <th>0<\/th>\n",
              "      <td>1<\/td>\n",
              "      <td>CA-2019-152156<\/td>\n",
              "      <td>11\/8\/2019<\/td>\n",
              "      <td>11\/11\/2019<\/td>\n",
              "      <td>Second Class<\/td>\n",
              "      <td>CG-12520<\/td>\n",
              "      <td>Claire Gute<\/td>\n",
              "      <td>Consumer<\/td>\n",
              "      <td>United States<\/td>\n",
              "      <td>Henderson<\/td>\n",
              "      <td>...<\/td>\n",
              "      <td>42420.0<\/td>\n",
              "      <td>South<\/td>\n",
              "      <td>FUR-BO-10001798<\/td>\n",
              "      <td>Furniture<\/td>\n",
              "      <td>Bookcases<\/td>\n",
              "      <td>Bush Somerset Collection Bookcase<\/td>\n",
              "      <td>261.9600<\/td>\n",
              "      <td>2<\/td>\n",
              "      <td>0.00<\/td>\n",
              "      <td>41.9136<\/td>\n",
              "    <\/tr>\n",
              "    <tr>\n",
              "      <th>1<\/th>\n",
              "      <td>2<\/td>\n",
              "      <td>CA-2019-152156<\/td>\n",
              "      <td>11\/8\/2019<\/td>\n",
              "      <td>11\/11\/2019<\/td>\n",
              "      <td>Second Class<\/td>\n",
              "      <td>CG-12520<\/td>\n",
              "      <td>Claire Gute<\/td>\n",
              "      <td>Consumer<\/td>\n",
              "      <td>United States<\/td>\n",
              "      <td>Henderson<\/td>\n",
              "      <td>...<\/td>\n",
              "      <td>42420.0<\/td>\n",
              "      <td>South<\/td>\n",
              "      <td>FUR-CH-10000454<\/td>\n",
              "      <td>Furniture<\/td>\n",
              "      <td>Chairs<\/td>\n",
              "      <td>Hon Deluxe Fabric Upholstered Stacking Chairs,...<\/td>\n",
              "      <td>731.9400<\/td>\n",
              "      <td>3<\/td>\n",
              "      <td>0.00<\/td>\n",
              "      <td>219.5820<\/td>\n",
              "    <\/tr>\n",
              "    <tr>\n",
              "      <th>2<\/th>\n",
              "      <td>3<\/td>\n",
              "      <td>CA-2019-138688<\/td>\n",
              "      <td>6\/12\/2019<\/td>\n",
              "      <td>6\/16\/2019<\/td>\n",
              "      <td>Second Class<\/td>\n",
              "      <td>DV-13045<\/td>\n",
              "      <td>Darrin Van Huff<\/td>\n",
              "      <td>Corporate<\/td>\n",
              "      <td>United States<\/td>\n",
              "      <td>Los Angeles<\/td>\n",
              "      <td>...<\/td>\n",
              "      <td>90036.0<\/td>\n",
              "      <td>West<\/td>\n",
              "      <td>OFF-LA-10000240<\/td>\n",
              "      <td>Office Supplies<\/td>\n",
              "      <td>Labels<\/td>\n",
              "      <td>Self-Adhesive Address Labels for Typewriters b...<\/td>\n",
              "      <td>14.6200<\/td>\n",
              "      <td>2<\/td>\n",
              "      <td>0.00<\/td>\n",
              "      <td>6.8714<\/td>\n",
              "    <\/tr>\n",
              "    <tr>\n",
              "      <th>3<\/th>\n",
              "      <td>4<\/td>\n",
              "      <td>US-2018-108966<\/td>\n",
              "      <td>10\/11\/2018<\/td>\n",
              "      <td>10\/18\/2018<\/td>\n",
              "      <td>Standard Class<\/td>\n",
              "      <td>SO-20335<\/td>\n",
              "      <td>Sean O'Donnell<\/td>\n",
              "      <td>Consumer<\/td>\n",
              "      <td>United States<\/td>\n",
              "      <td>Fort Lauderdale<\/td>\n",
              "      <td>...<\/td>\n",
              "      <td>33311.0<\/td>\n",
              "      <td>South<\/td>\n",
              "      <td>FUR-TA-10000577<\/td>\n",
              "      <td>Furniture<\/td>\n",
              "      <td>Tables<\/td>\n",
              "      <td>Bretford CR4500 Series Slim Rectangular Table<\/td>\n",
              "      <td>957.5775<\/td>\n",
              "      <td>5<\/td>\n",
              "      <td>0.45<\/td>\n",
              "      <td>-383.0310<\/td>\n",
              "    <\/tr>\n",
              "    <tr>\n",
              "      <th>4<\/th>\n",
              "      <td>5<\/td>\n",
              "      <td>US-2018-108966<\/td>\n",
              "      <td>10\/11\/2018<\/td>\n",
              "      <td>10\/18\/2018<\/td>\n",
              "      <td>Standard Class<\/td>\n",
              "      <td>SO-20335<\/td>\n",
              "      <td>Sean O'Donnell<\/td>\n",
              "      <td>Consumer<\/td>\n",
              "      <td>United States<\/td>\n",
              "      <td>Fort Lauderdale<\/td>\n",
              "      <td>...<\/td>\n",
              "      <td>33311.0<\/td>\n",
              "      <td>South<\/td>\n",
              "      <td>OFF-ST-10000760<\/td>\n",
              "      <td>Office Supplies<\/td>\n",
              "      <td>Storage<\/td>\n",
              "      <td>Eldon Fold 'N Roll Cart System<\/td>\n",
              "      <td>22.3680<\/td>\n",
              "      <td>2<\/td>\n",
              "      <td>0.20<\/td>\n",
              "      <td>2.5164<\/td>\n",
              "    <\/tr>\n",
              "  <\/tbody>\n",
              "<\/table>\n",
              "<p>5 rows × 21 columns<\/p>\n",
              "<\/div>"
            ]
          },
          "metadata":{
            
          },
          "output_type":"display_data"
        }
      ],
      "metadata":{
        "jupyter":{
          "source_hidden":false,
          "outputs_hidden":false
        },
        "datalore":{
          "type":"CODE",
          "sheet_delimiter":false
        }
      }
    },
    {
      "cell_type":"code",
      "source":[
        "# shape of dataframe\n",
        "df.shape"
      ],
      "execution_count":3,
      "outputs":[
        {
          "data":{
            "text\/plain":[
              "(9994, 21)"
            ]
          },
          "metadata":{
            
          },
          "output_type":"display_data"
        }
      ],
      "metadata":{
        "jupyter":{
          "source_hidden":false,
          "outputs_hidden":false
        },
        "datalore":{
          "type":"CODE",
          "sheet_delimiter":false
        }
      }
    },
    {
      "cell_type":"code",
      "source":[
        "# see data frame information using .info()\n",
        "df.info()"
      ],
      "execution_count":4,
      "outputs":[
        {
          "name":"stdout",
          "text":[
            "<class 'pandas.core.frame.DataFrame'>\n",
            "RangeIndex: 9994 entries, 0 to 9993\n",
            "Data columns (total 21 columns):\n",
            " #   Column          Non-Null Count  Dtype  \n",
            "---  ------          --------------  -----  \n",
            " 0   Row ID          9994 non-null   int64  \n",
            " 1   Order ID        9994 non-null   object \n",
            " 2   Order Date      9994 non-null   object \n",
            " 3   Ship Date       9994 non-null   object \n",
            " 4   Ship Mode       9994 non-null   object \n",
            " 5   Customer ID     9994 non-null   object \n",
            " 6   Customer Name   9994 non-null   object \n",
            " 7   Segment         9994 non-null   object \n",
            " 8   Country\/Region  9994 non-null   object \n",
            " 9   City            9994 non-null   object \n",
            " 10  State           9994 non-null   object \n",
            " 11  Postal Code     9983 non-null   float64\n",
            " 12  Region          9994 non-null   object \n",
            " 13  Product ID      9994 non-null   object \n",
            " 14  Category        9994 non-null   object \n",
            " 15  Sub-Category    9994 non-null   object \n",
            " 16  Product Name    9994 non-null   object \n",
            " 17  Sales           9994 non-null   float64\n",
            " 18  Quantity        9994 non-null   int64  \n",
            " 19  Discount        9994 non-null   float64\n",
            " 20  Profit          9994 non-null   float64\n",
            "dtypes: float64(4), int64(2), object(15)\n",
            "memory usage: 1.6+ MB\n"
          ],
          "output_type":"stream"
        }
      ],
      "metadata":{
        "jupyter":{
          "source_hidden":false,
          "outputs_hidden":false
        },
        "datalore":{
          "type":"CODE",
          "sheet_delimiter":false
        }
      }
    },
    {
      "cell_type":"markdown",
      "source":[
        "We can use `pd.to_datetime()` function to convert columns 'Order Date' and 'Ship Date' to datetime."
      ],
      "attachments":{
        
      },
      "metadata":{
        "jupyter":{
          "source_hidden":false,
          "outputs_hidden":false
        },
        "datalore":{
          "type":"MD",
          "sheet_delimiter":false
        }
      }
    },
    {
      "cell_type":"code",
      "source":[
        "# example of pd.to_datetime() function\n",
        "pd.to_datetime(df['Order Date'].head(), format='%m\/%d\/%Y')"
      ],
      "execution_count":5,
      "outputs":[
        {
          "data":{
            "text\/html":[
              
            ]
          },
          "metadata":{
            
          },
          "output_type":"display_data"
        }
      ],
      "metadata":{
        "jupyter":{
          "source_hidden":false,
          "outputs_hidden":false
        },
        "datalore":{
          "type":"CODE",
          "sheet_delimiter":false
        }
      }
    },
    {
      "cell_type":"code",
      "source":[
        "# TODO - convert order date and ship date to datetime in the original dataframe\n",
        "df['Order Date'] = pd.to_datetime(df['Order Date'], format='%m\/%d\/%Y')\n",
        "df['Order Date']"
      ],
      "execution_count":6,
      "outputs":[
        {
          "data":{
            "text\/html":[
              
            ]
          },
          "metadata":{
            
          },
          "output_type":"display_data"
        }
      ],
      "metadata":{
        "jupyter":{
          "source_hidden":false,
          "outputs_hidden":false
        },
        "datalore":{
          "type":"CODE",
          "sheet_delimiter":false
        }
      }
    },
    {
      "cell_type":"code",
      "source":[
        "df['Ship Date'] = pd.to_datetime(df['Ship Date'], format='%m\/%d\/%Y')\n",
        "df['Ship Date']"
      ],
      "execution_count":7,
      "outputs":[
        {
          "data":{
            "text\/html":[
              
            ]
          },
          "metadata":{
            
          },
          "output_type":"display_data"
        }
      ],
      "metadata":{
        "jupyter":{
          "source_hidden":false,
          "outputs_hidden":false
        },
        "datalore":{
          "type":"CODE",
          "sheet_delimiter":false
        }
      }
    },
    {
      "cell_type":"code",
      "source":[
        "# TODO - count nan in postal code column\n",
        "df['Postal Code'].isna().sum()"
      ],
      "execution_count":8,
      "outputs":[
        {
          "data":{
            "text\/plain":[
              "11"
            ]
          },
          "metadata":{
            
          },
          "output_type":"display_data"
        }
      ],
      "metadata":{
        "jupyter":{
          "source_hidden":false,
          "outputs_hidden":false
        },
        "datalore":{
          "type":"CODE",
          "sheet_delimiter":false
        }
      }
    },
    {
      "cell_type":"code",
      "source":[
        "# TODO - filter rows with missing values\n",
        "df[df['Postal Code'].isna()]"
      ],
      "execution_count":9,
      "outputs":[
        {
          "data":{
            "text\/html":[
              "<div>\n",
              "<style scoped>\n",
              "    .dataframe tbody tr th:only-of-type {\n",
              "        vertical-align: middle;\n",
              "    }\n",
              "\n",
              "    .dataframe tbody tr th {\n",
              "        vertical-align: top;\n",
              "    }\n",
              "\n",
              "    .dataframe thead th {\n",
              "        text-align: right;\n",
              "    }\n",
              "<\/style>\n",
              "<table border=\"1\" class=\"dataframe\">\n",
              "  <thead>\n",
              "    <tr style=\"text-align: right;\">\n",
              "      <th><\/th>\n",
              "      <th>Row ID<\/th>\n",
              "      <th>Order ID<\/th>\n",
              "      <th>Order Date<\/th>\n",
              "      <th>Ship Date<\/th>\n",
              "      <th>Ship Mode<\/th>\n",
              "      <th>Customer ID<\/th>\n",
              "      <th>Customer Name<\/th>\n",
              "      <th>Segment<\/th>\n",
              "      <th>Country\/Region<\/th>\n",
              "      <th>City<\/th>\n",
              "      <th>...<\/th>\n",
              "      <th>Postal Code<\/th>\n",
              "      <th>Region<\/th>\n",
              "      <th>Product ID<\/th>\n",
              "      <th>Category<\/th>\n",
              "      <th>Sub-Category<\/th>\n",
              "      <th>Product Name<\/th>\n",
              "      <th>Sales<\/th>\n",
              "      <th>Quantity<\/th>\n",
              "      <th>Discount<\/th>\n",
              "      <th>Profit<\/th>\n",
              "    <\/tr>\n",
              "  <\/thead>\n",
              "  <tbody>\n",
              "    <tr>\n",
              "      <th>2234<\/th>\n",
              "      <td>2235<\/td>\n",
              "      <td>CA-2020-104066<\/td>\n",
              "      <td>2020-12-05<\/td>\n",
              "      <td>2020-12-10<\/td>\n",
              "      <td>Standard Class<\/td>\n",
              "      <td>QJ-19255<\/td>\n",
              "      <td>Quincy Jones<\/td>\n",
              "      <td>Corporate<\/td>\n",
              "      <td>United States<\/td>\n",
              "      <td>Burlington<\/td>\n",
              "      <td>...<\/td>\n",
              "      <td>NaN<\/td>\n",
              "      <td>East<\/td>\n",
              "      <td>TEC-AC-10001013<\/td>\n",
              "      <td>Technology<\/td>\n",
              "      <td>Accessories<\/td>\n",
              "      <td>Logitech ClearChat Comfort\/USB Headset H390<\/td>\n",
              "      <td>205.03<\/td>\n",
              "      <td>7<\/td>\n",
              "      <td>0.0<\/td>\n",
              "      <td>67.6599<\/td>\n",
              "    <\/tr>\n",
              "    <tr>\n",
              "      <th>5274<\/th>\n",
              "      <td>5275<\/td>\n",
              "      <td>CA-2018-162887<\/td>\n",
              "      <td>2018-11-07<\/td>\n",
              "      <td>2018-11-09<\/td>\n",
              "      <td>Second Class<\/td>\n",
              "      <td>SV-20785<\/td>\n",
              "      <td>Stewart Visinsky<\/td>\n",
              "      <td>Consumer<\/td>\n",
              "      <td>United States<\/td>\n",
              "      <td>Burlington<\/td>\n",
              "      <td>...<\/td>\n",
              "      <td>NaN<\/td>\n",
              "      <td>East<\/td>\n",
              "      <td>FUR-CH-10000595<\/td>\n",
              "      <td>Furniture<\/td>\n",
              "      <td>Chairs<\/td>\n",
              "      <td>Safco Contoured Stacking Chairs<\/td>\n",
              "      <td>715.20<\/td>\n",
              "      <td>3<\/td>\n",
              "      <td>0.0<\/td>\n",
              "      <td>178.8000<\/td>\n",
              "    <\/tr>\n",
              "    <tr>\n",
              "      <th>8798<\/th>\n",
              "      <td>8799<\/td>\n",
              "      <td>US-2019-150140<\/td>\n",
              "      <td>2019-04-06<\/td>\n",
              "      <td>2019-04-10<\/td>\n",
              "      <td>Standard Class<\/td>\n",
              "      <td>VM-21685<\/td>\n",
              "      <td>Valerie Mitchum<\/td>\n",
              "      <td>Home Office<\/td>\n",
              "      <td>United States<\/td>\n",
              "      <td>Burlington<\/td>\n",
              "      <td>...<\/td>\n",
              "      <td>NaN<\/td>\n",
              "      <td>East<\/td>\n",
              "      <td>TEC-PH-10002555<\/td>\n",
              "      <td>Technology<\/td>\n",
              "      <td>Phones<\/td>\n",
              "      <td>Nortel Meridian M5316 Digital phone<\/td>\n",
              "      <td>1294.75<\/td>\n",
              "      <td>5<\/td>\n",
              "      <td>0.0<\/td>\n",
              "      <td>336.6350<\/td>\n",
              "    <\/tr>\n",
              "    <tr>\n",
              "      <th>9146<\/th>\n",
              "      <td>9147<\/td>\n",
              "      <td>US-2019-165505<\/td>\n",
              "      <td>2019-01-23<\/td>\n",
              "      <td>2019-01-27<\/td>\n",
              "      <td>Standard Class<\/td>\n",
              "      <td>CB-12535<\/td>\n",
              "      <td>Claudia Bergmann<\/td>\n",
              "      <td>Corporate<\/td>\n",
              "      <td>United States<\/td>\n",
              "      <td>Burlington<\/td>\n",
              "      <td>...<\/td>\n",
              "      <td>NaN<\/td>\n",
              "      <td>East<\/td>\n",
              "      <td>TEC-AC-10002926<\/td>\n",
              "      <td>Technology<\/td>\n",
              "      <td>Accessories<\/td>\n",
              "      <td>Logitech Wireless Marathon Mouse M705<\/td>\n",
              "      <td>99.98<\/td>\n",
              "      <td>2<\/td>\n",
              "      <td>0.0<\/td>\n",
              "      <td>42.9914<\/td>\n",
              "    <\/tr>\n",
              "    <tr>\n",
              "      <th>9147<\/th>\n",
              "      <td>9148<\/td>\n",
              "      <td>US-2019-165505<\/td>\n",
              "      <td>2019-01-23<\/td>\n",
              "      <td>2019-01-27<\/td>\n",
              "      <td>Standard Class<\/td>\n",
              "      <td>CB-12535<\/td>\n",
              "      <td>Claudia Bergmann<\/td>\n",
              "      <td>Corporate<\/td>\n",
              "      <td>United States<\/td>\n",
              "      <td>Burlington<\/td>\n",
              "      <td>...<\/td>\n",
              "      <td>NaN<\/td>\n",
              "      <td>East<\/td>\n",
              "      <td>OFF-AR-10003477<\/td>\n",
              "      <td>Office Supplies<\/td>\n",
              "      <td>Art<\/td>\n",
              "      <td>4009 Highlighters<\/td>\n",
              "      <td>8.04<\/td>\n",
              "      <td>6<\/td>\n",
              "      <td>0.0<\/td>\n",
              "      <td>2.7336<\/td>\n",
              "    <\/tr>\n",
              "    <tr>\n",
              "      <th>9148<\/th>\n",
              "      <td>9149<\/td>\n",
              "      <td>US-2019-165505<\/td>\n",
              "      <td>2019-01-23<\/td>\n",
              "      <td>2019-01-27<\/td>\n",
              "      <td>Standard Class<\/td>\n",
              "      <td>CB-12535<\/td>\n",
              "      <td>Claudia Bergmann<\/td>\n",
              "      <td>Corporate<\/td>\n",
              "      <td>United States<\/td>\n",
              "      <td>Burlington<\/td>\n",
              "      <td>...<\/td>\n",
              "      <td>NaN<\/td>\n",
              "      <td>East<\/td>\n",
              "      <td>OFF-ST-10001526<\/td>\n",
              "      <td>Office Supplies<\/td>\n",
              "      <td>Storage<\/td>\n",
              "      <td>Iceberg Mobile Mega Data\/Printer Cart<\/td>\n",
              "      <td>1564.29<\/td>\n",
              "      <td>13<\/td>\n",
              "      <td>0.0<\/td>\n",
              "      <td>406.7154<\/td>\n",
              "    <\/tr>\n",
              "    <tr>\n",
              "      <th>9386<\/th>\n",
              "      <td>9387<\/td>\n",
              "      <td>US-2020-127292<\/td>\n",
              "      <td>2020-01-19<\/td>\n",
              "      <td>2020-01-23<\/td>\n",
              "      <td>Standard Class<\/td>\n",
              "      <td>RM-19375<\/td>\n",
              "      <td>Raymond Messe<\/td>\n",
              "      <td>Consumer<\/td>\n",
              "      <td>United States<\/td>\n",
              "      <td>Burlington<\/td>\n",
              "      <td>...<\/td>\n",
              "      <td>NaN<\/td>\n",
              "      <td>East<\/td>\n",
              "      <td>OFF-PA-10000157<\/td>\n",
              "      <td>Office Supplies<\/td>\n",
              "      <td>Paper<\/td>\n",
              "      <td>Xerox 191<\/td>\n",
              "      <td>79.92<\/td>\n",
              "      <td>4<\/td>\n",
              "      <td>0.0<\/td>\n",
              "      <td>37.5624<\/td>\n",
              "    <\/tr>\n",
              "    <tr>\n",
              "      <th>9387<\/th>\n",
              "      <td>9388<\/td>\n",
              "      <td>US-2020-127292<\/td>\n",
              "      <td>2020-01-19<\/td>\n",
              "      <td>2020-01-23<\/td>\n",
              "      <td>Standard Class<\/td>\n",
              "      <td>RM-19375<\/td>\n",
              "      <td>Raymond Messe<\/td>\n",
              "      <td>Consumer<\/td>\n",
              "      <td>United States<\/td>\n",
              "      <td>Burlington<\/td>\n",
              "      <td>...<\/td>\n",
              "      <td>NaN<\/td>\n",
              "      <td>East<\/td>\n",
              "      <td>OFF-PA-10001970<\/td>\n",
              "      <td>Office Supplies<\/td>\n",
              "      <td>Paper<\/td>\n",
              "      <td>Xerox 1881<\/td>\n",
              "      <td>12.28<\/td>\n",
              "      <td>1<\/td>\n",
              "      <td>0.0<\/td>\n",
              "      <td>5.7716<\/td>\n",
              "    <\/tr>\n",
              "    <tr>\n",
              "      <th>9388<\/th>\n",
              "      <td>9389<\/td>\n",
              "      <td>US-2020-127292<\/td>\n",
              "      <td>2020-01-19<\/td>\n",
              "      <td>2020-01-23<\/td>\n",
              "      <td>Standard Class<\/td>\n",
              "      <td>RM-19375<\/td>\n",
              "      <td>Raymond Messe<\/td>\n",
              "      <td>Consumer<\/td>\n",
              "      <td>United States<\/td>\n",
              "      <td>Burlington<\/td>\n",
              "      <td>...<\/td>\n",
              "      <td>NaN<\/td>\n",
              "      <td>East<\/td>\n",
              "      <td>OFF-AP-10000828<\/td>\n",
              "      <td>Office Supplies<\/td>\n",
              "      <td>Appliances<\/td>\n",
              "      <td>Avanti 4.4 Cu. Ft. Refrigerator<\/td>\n",
              "      <td>542.94<\/td>\n",
              "      <td>3<\/td>\n",
              "      <td>0.0<\/td>\n",
              "      <td>152.0232<\/td>\n",
              "    <\/tr>\n",
              "    <tr>\n",
              "      <th>9389<\/th>\n",
              "      <td>9390<\/td>\n",
              "      <td>US-2020-127292<\/td>\n",
              "      <td>2020-01-19<\/td>\n",
              "      <td>2020-01-23<\/td>\n",
              "      <td>Standard Class<\/td>\n",
              "      <td>RM-19375<\/td>\n",
              "      <td>Raymond Messe<\/td>\n",
              "      <td>Consumer<\/td>\n",
              "      <td>United States<\/td>\n",
              "      <td>Burlington<\/td>\n",
              "      <td>...<\/td>\n",
              "      <td>NaN<\/td>\n",
              "      <td>East<\/td>\n",
              "      <td>OFF-EN-10001509<\/td>\n",
              "      <td>Office Supplies<\/td>\n",
              "      <td>Envelopes<\/td>\n",
              "      <td>Poly String Tie Envelopes<\/td>\n",
              "      <td>2.04<\/td>\n",
              "      <td>1<\/td>\n",
              "      <td>0.0<\/td>\n",
              "      <td>0.9588<\/td>\n",
              "    <\/tr>\n",
              "    <tr>\n",
              "      <th>9741<\/th>\n",
              "      <td>9742<\/td>\n",
              "      <td>CA-2018-117086<\/td>\n",
              "      <td>2018-11-08<\/td>\n",
              "      <td>2018-11-12<\/td>\n",
              "      <td>Standard Class<\/td>\n",
              "      <td>QJ-19255<\/td>\n",
              "      <td>Quincy Jones<\/td>\n",
              "      <td>Corporate<\/td>\n",
              "      <td>United States<\/td>\n",
              "      <td>Burlington<\/td>\n",
              "      <td>...<\/td>\n",
              "      <td>NaN<\/td>\n",
              "      <td>East<\/td>\n",
              "      <td>FUR-BO-10004834<\/td>\n",
              "      <td>Furniture<\/td>\n",
              "      <td>Bookcases<\/td>\n",
              "      <td>Riverside Palais Royal Lawyers Bookcase, Royal...<\/td>\n",
              "      <td>4404.90<\/td>\n",
              "      <td>5<\/td>\n",
              "      <td>0.0<\/td>\n",
              "      <td>1013.1270<\/td>\n",
              "    <\/tr>\n",
              "  <\/tbody>\n",
              "<\/table>\n",
              "<p>11 rows × 21 columns<\/p>\n",
              "<\/div>"
            ]
          },
          "metadata":{
            
          },
          "output_type":"display_data"
        }
      ],
      "metadata":{
        "jupyter":{
          "source_hidden":false,
          "outputs_hidden":false
        },
        "datalore":{
          "type":"CODE",
          "sheet_delimiter":false
        }
      }
    },
    {
      "cell_type":"code",
      "source":[
        "# TODO - Explore this dataset on your owns, ask your own questions\n",
        "\n",
        "# Which City has the highest total sales in 2020\n",
        "df[df['Order Date'].isin(pd.date_range('1\/1\/2020', '12\/31\/2020'))] \\\n",
        "    .groupby('City')['Sales'].sum() \\\n",
        "    .sort_values(ascending=False).head(1)"
      ],
      "execution_count":10,
      "outputs":[
        {
          "data":{
            "text\/html":[
              
            ]
          },
          "metadata":{
            
          },
          "output_type":"display_data"
        }
      ],
      "metadata":{
        "jupyter":{
          "source_hidden":false,
          "outputs_hidden":false
        },
        "datalore":{
          "type":"CODE",
          "sheet_delimiter":false
        }
      }
    },
    {
      "cell_type":"markdown",
      "source":[
        "## Data Analysis Part\n",
        "\n",
        "Answer 10 below questions to get credit from this course. Write `pandas` code to find answers."
      ],
      "attachments":{
        
      },
      "metadata":{
        "jupyter":{
          "source_hidden":false,
          "outputs_hidden":false
        },
        "datalore":{
          "type":"MD",
          "sheet_delimiter":false
        }
      }
    },
    {
      "cell_type":"code",
      "source":[
        "# TODO 01 - how many columns, rows in this dataset\n",
        "shape = df.shape\n",
        "\n",
        "print(f\"Rows: {shape[0]}, Columns: {shape[1]}\")"
      ],
      "execution_count":11,
      "outputs":[
        {
          "name":"stdout",
          "text":[
            "Rows: 9994, Columns: 21\n"
          ],
          "output_type":"stream"
        }
      ],
      "metadata":{
        "jupyter":{
          "source_hidden":false,
          "outputs_hidden":false
        },
        "datalore":{
          "type":"CODE",
          "sheet_delimiter":false
        }
      }
    },
    {
      "cell_type":"code",
      "source":[
        "# TODO 02 - is there any missing values?, if there is, which colunm? how many nan values?\n",
        "df.isna().sum()"
      ],
      "execution_count":12,
      "outputs":[
        {
          "data":{
            "text\/html":[
              
            ]
          },
          "metadata":{
            
          },
          "output_type":"display_data"
        }
      ],
      "metadata":{
        "jupyter":{
          "source_hidden":false,
          "outputs_hidden":false
        },
        "datalore":{
          "type":"CODE",
          "sheet_delimiter":false
        }
      }
    },
    {
      "cell_type":"code",
      "source":[
        "print('Postal Code column has 11 missing values.')"
      ],
      "execution_count":13,
      "outputs":[
        {
          "name":"stdout",
          "text":[
            "Postal Code column has 11 missing values.\n"
          ],
          "output_type":"stream"
        }
      ],
      "metadata":{
        "jupyter":{
          "source_hidden":false,
          "outputs_hidden":false
        },
        "datalore":{
          "type":"CODE",
          "sheet_delimiter":false
        }
      }
    },
    {
      "cell_type":"code",
      "source":[
        "# TODO 03 - your friend ask for `California` data, filter it and export csv for him\n",
        "df_california = df[df['State'] == 'California']\n",
        "df_california"
      ],
      "execution_count":14,
      "outputs":[
        {
          "data":{
            "text\/html":[
              "<div>\n",
              "<style scoped>\n",
              "    .dataframe tbody tr th:only-of-type {\n",
              "        vertical-align: middle;\n",
              "    }\n",
              "\n",
              "    .dataframe tbody tr th {\n",
              "        vertical-align: top;\n",
              "    }\n",
              "\n",
              "    .dataframe thead th {\n",
              "        text-align: right;\n",
              "    }\n",
              "<\/style>\n",
              "<table border=\"1\" class=\"dataframe\">\n",
              "  <thead>\n",
              "    <tr style=\"text-align: right;\">\n",
              "      <th><\/th>\n",
              "      <th>Row ID<\/th>\n",
              "      <th>Order ID<\/th>\n",
              "      <th>Order Date<\/th>\n",
              "      <th>Ship Date<\/th>\n",
              "      <th>Ship Mode<\/th>\n",
              "      <th>Customer ID<\/th>\n",
              "      <th>Customer Name<\/th>\n",
              "      <th>Segment<\/th>\n",
              "      <th>Country\/Region<\/th>\n",
              "      <th>City<\/th>\n",
              "      <th>...<\/th>\n",
              "      <th>Postal Code<\/th>\n",
              "      <th>Region<\/th>\n",
              "      <th>Product ID<\/th>\n",
              "      <th>Category<\/th>\n",
              "      <th>Sub-Category<\/th>\n",
              "      <th>Product Name<\/th>\n",
              "      <th>Sales<\/th>\n",
              "      <th>Quantity<\/th>\n",
              "      <th>Discount<\/th>\n",
              "      <th>Profit<\/th>\n",
              "    <\/tr>\n",
              "  <\/thead>\n",
              "  <tbody>\n",
              "    <tr>\n",
              "      <th>2<\/th>\n",
              "      <td>3<\/td>\n",
              "      <td>CA-2019-138688<\/td>\n",
              "      <td>2019-06-12<\/td>\n",
              "      <td>2019-06-16<\/td>\n",
              "      <td>Second Class<\/td>\n",
              "      <td>DV-13045<\/td>\n",
              "      <td>Darrin Van Huff<\/td>\n",
              "      <td>Corporate<\/td>\n",
              "      <td>United States<\/td>\n",
              "      <td>Los Angeles<\/td>\n",
              "      <td>...<\/td>\n",
              "      <td>90036.0<\/td>\n",
              "      <td>West<\/td>\n",
              "      <td>OFF-LA-10000240<\/td>\n",
              "      <td>Office Supplies<\/td>\n",
              "      <td>Labels<\/td>\n",
              "      <td>Self-Adhesive Address Labels for Typewriters b...<\/td>\n",
              "      <td>14.620<\/td>\n",
              "      <td>2<\/td>\n",
              "      <td>0.0<\/td>\n",
              "      <td>6.8714<\/td>\n",
              "    <\/tr>\n",
              "    <tr>\n",
              "      <th>5<\/th>\n",
              "      <td>6<\/td>\n",
              "      <td>CA-2017-115812<\/td>\n",
              "      <td>2017-06-09<\/td>\n",
              "      <td>2017-06-14<\/td>\n",
              "      <td>Standard Class<\/td>\n",
              "      <td>BH-11710<\/td>\n",
              "      <td>Brosina Hoffman<\/td>\n",
              "      <td>Consumer<\/td>\n",
              "      <td>United States<\/td>\n",
              "      <td>Los Angeles<\/td>\n",
              "      <td>...<\/td>\n",
              "      <td>90032.0<\/td>\n",
              "      <td>West<\/td>\n",
              "      <td>FUR-FU-10001487<\/td>\n",
              "      <td>Furniture<\/td>\n",
              "      <td>Furnishings<\/td>\n",
              "      <td>Eldon Expressions Wood and Plastic Desk Access...<\/td>\n",
              "      <td>48.860<\/td>\n",
              "      <td>7<\/td>\n",
              "      <td>0.0<\/td>\n",
              "      <td>14.1694<\/td>\n",
              "    <\/tr>\n",
              "    <tr>\n",
              "      <th>6<\/th>\n",
              "      <td>7<\/td>\n",
              "      <td>CA-2017-115812<\/td>\n",
              "      <td>2017-06-09<\/td>\n",
              "      <td>2017-06-14<\/td>\n",
              "      <td>Standard Class<\/td>\n",
              "      <td>BH-11710<\/td>\n",
              "      <td>Brosina Hoffman<\/td>\n",
              "      <td>Consumer<\/td>\n",
              "      <td>United States<\/td>\n",
              "      <td>Los Angeles<\/td>\n",
              "      <td>...<\/td>\n",
              "      <td>90032.0<\/td>\n",
              "      <td>West<\/td>\n",
              "      <td>OFF-AR-10002833<\/td>\n",
              "      <td>Office Supplies<\/td>\n",
              "      <td>Art<\/td>\n",
              "      <td>Newell 322<\/td>\n",
              "      <td>7.280<\/td>\n",
              "      <td>4<\/td>\n",
              "      <td>0.0<\/td>\n",
              "      <td>1.9656<\/td>\n",
              "    <\/tr>\n",
              "    <tr>\n",
              "      <th>7<\/th>\n",
              "      <td>8<\/td>\n",
              "      <td>CA-2017-115812<\/td>\n",
              "      <td>2017-06-09<\/td>\n",
              "      <td>2017-06-14<\/td>\n",
              "      <td>Standard Class<\/td>\n",
              "      <td>BH-11710<\/td>\n",
              "      <td>Brosina Hoffman<\/td>\n",
              "      <td>Consumer<\/td>\n",
              "      <td>United States<\/td>\n",
              "      <td>Los Angeles<\/td>\n",
              "      <td>...<\/td>\n",
              "      <td>90032.0<\/td>\n",
              "      <td>West<\/td>\n",
              "      <td>TEC-PH-10002275<\/td>\n",
              "      <td>Technology<\/td>\n",
              "      <td>Phones<\/td>\n",
              "      <td>Mitel 5320 IP Phone VoIP phone<\/td>\n",
              "      <td>907.152<\/td>\n",
              "      <td>6<\/td>\n",
              "      <td>0.2<\/td>\n",
              "      <td>90.7152<\/td>\n",
              "    <\/tr>\n",
              "    <tr>\n",
              "      <th>8<\/th>\n",
              "      <td>9<\/td>\n",
              "      <td>CA-2017-115812<\/td>\n",
              "      <td>2017-06-09<\/td>\n",
              "      <td>2017-06-14<\/td>\n",
              "      <td>Standard Class<\/td>\n",
              "      <td>BH-11710<\/td>\n",
              "      <td>Brosina Hoffman<\/td>\n",
              "      <td>Consumer<\/td>\n",
              "      <td>United States<\/td>\n",
              "      <td>Los Angeles<\/td>\n",
              "      <td>...<\/td>\n",
              "      <td>90032.0<\/td>\n",
              "      <td>West<\/td>\n",
              "      <td>OFF-BI-10003910<\/td>\n",
              "      <td>Office Supplies<\/td>\n",
              "      <td>Binders<\/td>\n",
              "      <td>DXL Angle-View Binders with Locking Rings by S...<\/td>\n",
              "      <td>18.504<\/td>\n",
              "      <td>3<\/td>\n",
              "      <td>0.2<\/td>\n",
              "      <td>5.7825<\/td>\n",
              "    <\/tr>\n",
              "    <tr>\n",
              "      <th>...<\/th>\n",
              "      <td>...<\/td>\n",
              "      <td>...<\/td>\n",
              "      <td>...<\/td>\n",
              "      <td>...<\/td>\n",
              "      <td>...<\/td>\n",
              "      <td>...<\/td>\n",
              "      <td>...<\/td>\n",
              "      <td>...<\/td>\n",
              "      <td>...<\/td>\n",
              "      <td>...<\/td>\n",
              "      <td>...<\/td>\n",
              "      <td>...<\/td>\n",
              "      <td>...<\/td>\n",
              "      <td>...<\/td>\n",
              "      <td>...<\/td>\n",
              "      <td>...<\/td>\n",
              "      <td>...<\/td>\n",
              "      <td>...<\/td>\n",
              "      <td>...<\/td>\n",
              "      <td>...<\/td>\n",
              "      <td>...<\/td>\n",
              "    <\/tr>\n",
              "    <tr>\n",
              "      <th>9986<\/th>\n",
              "      <td>9987<\/td>\n",
              "      <td>CA-2019-125794<\/td>\n",
              "      <td>2019-09-29<\/td>\n",
              "      <td>2019-10-03<\/td>\n",
              "      <td>Standard Class<\/td>\n",
              "      <td>ML-17410<\/td>\n",
              "      <td>Maris LaWare<\/td>\n",
              "      <td>Consumer<\/td>\n",
              "      <td>United States<\/td>\n",
              "      <td>Los Angeles<\/td>\n",
              "      <td>...<\/td>\n",
              "      <td>90008.0<\/td>\n",
              "      <td>West<\/td>\n",
              "      <td>TEC-AC-10003399<\/td>\n",
              "      <td>Technology<\/td>\n",
              "      <td>Accessories<\/td>\n",
              "      <td>Memorex Mini Travel Drive 64 GB USB 2.0 Flash ...<\/td>\n",
              "      <td>36.240<\/td>\n",
              "      <td>1<\/td>\n",
              "      <td>0.0<\/td>\n",
              "      <td>15.2208<\/td>\n",
              "    <\/tr>\n",
              "    <tr>\n",
              "      <th>9990<\/th>\n",
              "      <td>9991<\/td>\n",
              "      <td>CA-2020-121258<\/td>\n",
              "      <td>2020-02-26<\/td>\n",
              "      <td>2020-03-03<\/td>\n",
              "      <td>Standard Class<\/td>\n",
              "      <td>DB-13060<\/td>\n",
              "      <td>Dave Brooks<\/td>\n",
              "      <td>Consumer<\/td>\n",
              "      <td>United States<\/td>\n",
              "      <td>Costa Mesa<\/td>\n",
              "      <td>...<\/td>\n",
              "      <td>92627.0<\/td>\n",
              "      <td>West<\/td>\n",
              "      <td>FUR-FU-10000747<\/td>\n",
              "      <td>Furniture<\/td>\n",
              "      <td>Furnishings<\/td>\n",
              "      <td>Tenex B1-RE Series Chair Mats for Low Pile Car...<\/td>\n",
              "      <td>91.960<\/td>\n",
              "      <td>2<\/td>\n",
              "      <td>0.0<\/td>\n",
              "      <td>15.6332<\/td>\n",
              "    <\/tr>\n",
              "    <tr>\n",
              "      <th>9991<\/th>\n",
              "      <td>9992<\/td>\n",
              "      <td>CA-2020-121258<\/td>\n",
              "      <td>2020-02-26<\/td>\n",
              "      <td>2020-03-03<\/td>\n",
              "      <td>Standard Class<\/td>\n",
              "      <td>DB-13060<\/td>\n",
              "      <td>Dave Brooks<\/td>\n",
              "      <td>Consumer<\/td>\n",
              "      <td>United States<\/td>\n",
              "      <td>Costa Mesa<\/td>\n",
              "      <td>...<\/td>\n",
              "      <td>92627.0<\/td>\n",
              "      <td>West<\/td>\n",
              "      <td>TEC-PH-10003645<\/td>\n",
              "      <td>Technology<\/td>\n",
              "      <td>Phones<\/td>\n",
              "      <td>Aastra 57i VoIP phone<\/td>\n",
              "      <td>258.576<\/td>\n",
              "      <td>2<\/td>\n",
              "      <td>0.2<\/td>\n",
              "      <td>19.3932<\/td>\n",
              "    <\/tr>\n",
              "    <tr>\n",
              "      <th>9992<\/th>\n",
              "      <td>9993<\/td>\n",
              "      <td>CA-2020-121258<\/td>\n",
              "      <td>2020-02-26<\/td>\n",
              "      <td>2020-03-03<\/td>\n",
              "      <td>Standard Class<\/td>\n",
              "      <td>DB-13060<\/td>\n",
              "      <td>Dave Brooks<\/td>\n",
              "      <td>Consumer<\/td>\n",
              "      <td>United States<\/td>\n",
              "      <td>Costa Mesa<\/td>\n",
              "      <td>...<\/td>\n",
              "      <td>92627.0<\/td>\n",
              "      <td>West<\/td>\n",
              "      <td>OFF-PA-10004041<\/td>\n",
              "      <td>Office Supplies<\/td>\n",
              "      <td>Paper<\/td>\n",
              "      <td>It's Hot Message Books with Stickers, 2 3\/4\" x 5\"<\/td>\n",
              "      <td>29.600<\/td>\n",
              "      <td>4<\/td>\n",
              "      <td>0.0<\/td>\n",
              "      <td>13.3200<\/td>\n",
              "    <\/tr>\n",
              "    <tr>\n",
              "      <th>9993<\/th>\n",
              "      <td>9994<\/td>\n",
              "      <td>CA-2020-119914<\/td>\n",
              "      <td>2020-05-04<\/td>\n",
              "      <td>2020-05-09<\/td>\n",
              "      <td>Second Class<\/td>\n",
              "      <td>CC-12220<\/td>\n",
              "      <td>Chris Cortes<\/td>\n",
              "      <td>Consumer<\/td>\n",
              "      <td>United States<\/td>\n",
              "      <td>Westminster<\/td>\n",
              "      <td>...<\/td>\n",
              "      <td>92683.0<\/td>\n",
              "      <td>West<\/td>\n",
              "      <td>OFF-AP-10002684<\/td>\n",
              "      <td>Office Supplies<\/td>\n",
              "      <td>Appliances<\/td>\n",
              "      <td>Acco 7-Outlet Masterpiece Power Center, Wihtou...<\/td>\n",
              "      <td>243.160<\/td>\n",
              "      <td>2<\/td>\n",
              "      <td>0.0<\/td>\n",
              "      <td>72.9480<\/td>\n",
              "    <\/tr>\n",
              "  <\/tbody>\n",
              "<\/table>\n",
              "<p>2001 rows × 21 columns<\/p>\n",
              "<\/div>"
            ]
          },
          "metadata":{
            
          },
          "output_type":"display_data"
        }
      ],
      "metadata":{
        "jupyter":{
          "source_hidden":false,
          "outputs_hidden":false
        },
        "datalore":{
          "type":"CODE",
          "sheet_delimiter":false
        }
      }
    },
    {
      "cell_type":"code",
      "source":[
        "df_california.to_csv('California_data.csv')"
      ],
      "execution_count":15,
      "outputs":[
        
      ],
      "metadata":{
        "jupyter":{
          "source_hidden":false,
          "outputs_hidden":false
        },
        "datalore":{
          "type":"CODE",
          "sheet_delimiter":false
        }
      }
    },
    {
      "cell_type":"code",
      "source":[
        "# TODO 04 - your friend ask for all order data in `California` and `Texas` in 2017 (look at Order Date), send him csv file\n",
        "df_2017 = df[df['Order Date'].isin(pd.date_range('1\/1\/2017', '12\/31\/2017'))]\n",
        "df_2017_cal_tex = df_2017[ (df_2017['State'] == 'California') | (df_2017['State'] == 'Texas') ]\n",
        "df_2017_cal_tex"
      ],
      "execution_count":16,
      "outputs":[
        {
          "data":{
            "text\/html":[
              "<div>\n",
              "<style scoped>\n",
              "    .dataframe tbody tr th:only-of-type {\n",
              "        vertical-align: middle;\n",
              "    }\n",
              "\n",
              "    .dataframe tbody tr th {\n",
              "        vertical-align: top;\n",
              "    }\n",
              "\n",
              "    .dataframe thead th {\n",
              "        text-align: right;\n",
              "    }\n",
              "<\/style>\n",
              "<table border=\"1\" class=\"dataframe\">\n",
              "  <thead>\n",
              "    <tr style=\"text-align: right;\">\n",
              "      <th><\/th>\n",
              "      <th>Row ID<\/th>\n",
              "      <th>Order ID<\/th>\n",
              "      <th>Order Date<\/th>\n",
              "      <th>Ship Date<\/th>\n",
              "      <th>Ship Mode<\/th>\n",
              "      <th>Customer ID<\/th>\n",
              "      <th>Customer Name<\/th>\n",
              "      <th>Segment<\/th>\n",
              "      <th>Country\/Region<\/th>\n",
              "      <th>City<\/th>\n",
              "      <th>...<\/th>\n",
              "      <th>Postal Code<\/th>\n",
              "      <th>Region<\/th>\n",
              "      <th>Product ID<\/th>\n",
              "      <th>Category<\/th>\n",
              "      <th>Sub-Category<\/th>\n",
              "      <th>Product Name<\/th>\n",
              "      <th>Sales<\/th>\n",
              "      <th>Quantity<\/th>\n",
              "      <th>Discount<\/th>\n",
              "      <th>Profit<\/th>\n",
              "    <\/tr>\n",
              "  <\/thead>\n",
              "  <tbody>\n",
              "    <tr>\n",
              "      <th>5<\/th>\n",
              "      <td>6<\/td>\n",
              "      <td>CA-2017-115812<\/td>\n",
              "      <td>2017-06-09<\/td>\n",
              "      <td>2017-06-14<\/td>\n",
              "      <td>Standard Class<\/td>\n",
              "      <td>BH-11710<\/td>\n",
              "      <td>Brosina Hoffman<\/td>\n",
              "      <td>Consumer<\/td>\n",
              "      <td>United States<\/td>\n",
              "      <td>Los Angeles<\/td>\n",
              "      <td>...<\/td>\n",
              "      <td>90032.0<\/td>\n",
              "      <td>West<\/td>\n",
              "      <td>FUR-FU-10001487<\/td>\n",
              "      <td>Furniture<\/td>\n",
              "      <td>Furnishings<\/td>\n",
              "      <td>Eldon Expressions Wood and Plastic Desk Access...<\/td>\n",
              "      <td>48.860<\/td>\n",
              "      <td>7<\/td>\n",
              "      <td>0.0<\/td>\n",
              "      <td>14.1694<\/td>\n",
              "    <\/tr>\n",
              "    <tr>\n",
              "      <th>6<\/th>\n",
              "      <td>7<\/td>\n",
              "      <td>CA-2017-115812<\/td>\n",
              "      <td>2017-06-09<\/td>\n",
              "      <td>2017-06-14<\/td>\n",
              "      <td>Standard Class<\/td>\n",
              "      <td>BH-11710<\/td>\n",
              "      <td>Brosina Hoffman<\/td>\n",
              "      <td>Consumer<\/td>\n",
              "      <td>United States<\/td>\n",
              "      <td>Los Angeles<\/td>\n",
              "      <td>...<\/td>\n",
              "      <td>90032.0<\/td>\n",
              "      <td>West<\/td>\n",
              "      <td>OFF-AR-10002833<\/td>\n",
              "      <td>Office Supplies<\/td>\n",
              "      <td>Art<\/td>\n",
              "      <td>Newell 322<\/td>\n",
              "      <td>7.280<\/td>\n",
              "      <td>4<\/td>\n",
              "      <td>0.0<\/td>\n",
              "      <td>1.9656<\/td>\n",
              "    <\/tr>\n",
              "    <tr>\n",
              "      <th>7<\/th>\n",
              "      <td>8<\/td>\n",
              "      <td>CA-2017-115812<\/td>\n",
              "      <td>2017-06-09<\/td>\n",
              "      <td>2017-06-14<\/td>\n",
              "      <td>Standard Class<\/td>\n",
              "      <td>BH-11710<\/td>\n",
              "      <td>Brosina Hoffman<\/td>\n",
              "      <td>Consumer<\/td>\n",
              "      <td>United States<\/td>\n",
              "      <td>Los Angeles<\/td>\n",
              "      <td>...<\/td>\n",
              "      <td>90032.0<\/td>\n",
              "      <td>West<\/td>\n",
              "      <td>TEC-PH-10002275<\/td>\n",
              "      <td>Technology<\/td>\n",
              "      <td>Phones<\/td>\n",
              "      <td>Mitel 5320 IP Phone VoIP phone<\/td>\n",
              "      <td>907.152<\/td>\n",
              "      <td>6<\/td>\n",
              "      <td>0.2<\/td>\n",
              "      <td>90.7152<\/td>\n",
              "    <\/tr>\n",
              "    <tr>\n",
              "      <th>8<\/th>\n",
              "      <td>9<\/td>\n",
              "      <td>CA-2017-115812<\/td>\n",
              "      <td>2017-06-09<\/td>\n",
              "      <td>2017-06-14<\/td>\n",
              "      <td>Standard Class<\/td>\n",
              "      <td>BH-11710<\/td>\n",
              "      <td>Brosina Hoffman<\/td>\n",
              "      <td>Consumer<\/td>\n",
              "      <td>United States<\/td>\n",
              "      <td>Los Angeles<\/td>\n",
              "      <td>...<\/td>\n",
              "      <td>90032.0<\/td>\n",
              "      <td>West<\/td>\n",
              "      <td>OFF-BI-10003910<\/td>\n",
              "      <td>Office Supplies<\/td>\n",
              "      <td>Binders<\/td>\n",
              "      <td>DXL Angle-View Binders with Locking Rings by S...<\/td>\n",
              "      <td>18.504<\/td>\n",
              "      <td>3<\/td>\n",
              "      <td>0.2<\/td>\n",
              "      <td>5.7825<\/td>\n",
              "    <\/tr>\n",
              "    <tr>\n",
              "      <th>9<\/th>\n",
              "      <td>10<\/td>\n",
              "      <td>CA-2017-115812<\/td>\n",
              "      <td>2017-06-09<\/td>\n",
              "      <td>2017-06-14<\/td>\n",
              "      <td>Standard Class<\/td>\n",
              "      <td>BH-11710<\/td>\n",
              "      <td>Brosina Hoffman<\/td>\n",
              "      <td>Consumer<\/td>\n",
              "      <td>United States<\/td>\n",
              "      <td>Los Angeles<\/td>\n",
              "      <td>...<\/td>\n",
              "      <td>90032.0<\/td>\n",
              "      <td>West<\/td>\n",
              "      <td>OFF-AP-10002892<\/td>\n",
              "      <td>Office Supplies<\/td>\n",
              "      <td>Appliances<\/td>\n",
              "      <td>Belkin F5C206VTEL 6 Outlet Surge<\/td>\n",
              "      <td>114.900<\/td>\n",
              "      <td>5<\/td>\n",
              "      <td>0.0<\/td>\n",
              "      <td>34.4700<\/td>\n",
              "    <\/tr>\n",
              "    <tr>\n",
              "      <th>...<\/th>\n",
              "      <td>...<\/td>\n",
              "      <td>...<\/td>\n",
              "      <td>...<\/td>\n",
              "      <td>...<\/td>\n",
              "      <td>...<\/td>\n",
              "      <td>...<\/td>\n",
              "      <td>...<\/td>\n",
              "      <td>...<\/td>\n",
              "      <td>...<\/td>\n",
              "      <td>...<\/td>\n",
              "      <td>...<\/td>\n",
              "      <td>...<\/td>\n",
              "      <td>...<\/td>\n",
              "      <td>...<\/td>\n",
              "      <td>...<\/td>\n",
              "      <td>...<\/td>\n",
              "      <td>...<\/td>\n",
              "      <td>...<\/td>\n",
              "      <td>...<\/td>\n",
              "      <td>...<\/td>\n",
              "      <td>...<\/td>\n",
              "    <\/tr>\n",
              "    <tr>\n",
              "      <th>9885<\/th>\n",
              "      <td>9886<\/td>\n",
              "      <td>CA-2017-112291<\/td>\n",
              "      <td>2017-04-03<\/td>\n",
              "      <td>2017-04-08<\/td>\n",
              "      <td>Standard Class<\/td>\n",
              "      <td>KE-16420<\/td>\n",
              "      <td>Katrina Edelman<\/td>\n",
              "      <td>Corporate<\/td>\n",
              "      <td>United States<\/td>\n",
              "      <td>Los Angeles<\/td>\n",
              "      <td>...<\/td>\n",
              "      <td>90008.0<\/td>\n",
              "      <td>West<\/td>\n",
              "      <td>TEC-AC-10000736<\/td>\n",
              "      <td>Technology<\/td>\n",
              "      <td>Accessories<\/td>\n",
              "      <td>Logitech G600 MMO Gaming Mouse<\/td>\n",
              "      <td>159.980<\/td>\n",
              "      <td>2<\/td>\n",
              "      <td>0.0<\/td>\n",
              "      <td>57.5928<\/td>\n",
              "    <\/tr>\n",
              "    <tr>\n",
              "      <th>9903<\/th>\n",
              "      <td>9904<\/td>\n",
              "      <td>CA-2017-122609<\/td>\n",
              "      <td>2017-11-12<\/td>\n",
              "      <td>2017-11-18<\/td>\n",
              "      <td>Standard Class<\/td>\n",
              "      <td>DP-13000<\/td>\n",
              "      <td>Darren Powers<\/td>\n",
              "      <td>Consumer<\/td>\n",
              "      <td>United States<\/td>\n",
              "      <td>Carrollton<\/td>\n",
              "      <td>...<\/td>\n",
              "      <td>75007.0<\/td>\n",
              "      <td>Central<\/td>\n",
              "      <td>FUR-FU-10004587<\/td>\n",
              "      <td>Furniture<\/td>\n",
              "      <td>Furnishings<\/td>\n",
              "      <td>GE General Use Halogen Bulbs, 100 Watts, 1 Bul...<\/td>\n",
              "      <td>25.128<\/td>\n",
              "      <td>3<\/td>\n",
              "      <td>0.6<\/td>\n",
              "      <td>-6.9102<\/td>\n",
              "    <\/tr>\n",
              "    <tr>\n",
              "      <th>9904<\/th>\n",
              "      <td>9905<\/td>\n",
              "      <td>CA-2017-122609<\/td>\n",
              "      <td>2017-11-12<\/td>\n",
              "      <td>2017-11-18<\/td>\n",
              "      <td>Standard Class<\/td>\n",
              "      <td>DP-13000<\/td>\n",
              "      <td>Darren Powers<\/td>\n",
              "      <td>Consumer<\/td>\n",
              "      <td>United States<\/td>\n",
              "      <td>Carrollton<\/td>\n",
              "      <td>...<\/td>\n",
              "      <td>75007.0<\/td>\n",
              "      <td>Central<\/td>\n",
              "      <td>TEC-AC-10002567<\/td>\n",
              "      <td>Technology<\/td>\n",
              "      <td>Accessories<\/td>\n",
              "      <td>Logitech G602 Wireless Gaming Mouse<\/td>\n",
              "      <td>127.984<\/td>\n",
              "      <td>2<\/td>\n",
              "      <td>0.2<\/td>\n",
              "      <td>25.5968<\/td>\n",
              "    <\/tr>\n",
              "    <tr>\n",
              "      <th>9942<\/th>\n",
              "      <td>9943<\/td>\n",
              "      <td>CA-2017-143371<\/td>\n",
              "      <td>2017-12-28<\/td>\n",
              "      <td>2018-01-03<\/td>\n",
              "      <td>Standard Class<\/td>\n",
              "      <td>MD-17350<\/td>\n",
              "      <td>Maribeth Dona<\/td>\n",
              "      <td>Consumer<\/td>\n",
              "      <td>United States<\/td>\n",
              "      <td>Anaheim<\/td>\n",
              "      <td>...<\/td>\n",
              "      <td>92804.0<\/td>\n",
              "      <td>West<\/td>\n",
              "      <td>OFF-ST-10001128<\/td>\n",
              "      <td>Office Supplies<\/td>\n",
              "      <td>Storage<\/td>\n",
              "      <td>Carina Mini System Audio Rack, Model AR050B<\/td>\n",
              "      <td>998.820<\/td>\n",
              "      <td>9<\/td>\n",
              "      <td>0.0<\/td>\n",
              "      <td>29.9646<\/td>\n",
              "    <\/tr>\n",
              "    <tr>\n",
              "      <th>9943<\/th>\n",
              "      <td>9944<\/td>\n",
              "      <td>CA-2017-143371<\/td>\n",
              "      <td>2017-12-28<\/td>\n",
              "      <td>2018-01-03<\/td>\n",
              "      <td>Standard Class<\/td>\n",
              "      <td>MD-17350<\/td>\n",
              "      <td>Maribeth Dona<\/td>\n",
              "      <td>Consumer<\/td>\n",
              "      <td>United States<\/td>\n",
              "      <td>Anaheim<\/td>\n",
              "      <td>...<\/td>\n",
              "      <td>92804.0<\/td>\n",
              "      <td>West<\/td>\n",
              "      <td>OFF-SU-10002537<\/td>\n",
              "      <td>Office Supplies<\/td>\n",
              "      <td>Supplies<\/td>\n",
              "      <td>Acme Box Cutter Scissors<\/td>\n",
              "      <td>51.150<\/td>\n",
              "      <td>5<\/td>\n",
              "      <td>0.0<\/td>\n",
              "      <td>13.2990<\/td>\n",
              "    <\/tr>\n",
              "  <\/tbody>\n",
              "<\/table>\n",
              "<p>632 rows × 21 columns<\/p>\n",
              "<\/div>"
            ]
          },
          "metadata":{
            
          },
          "output_type":"display_data"
        }
      ],
      "metadata":{
        "jupyter":{
          "source_hidden":false,
          "outputs_hidden":false
        },
        "datalore":{
          "type":"CODE",
          "sheet_delimiter":false
        }
      }
    },
    {
      "cell_type":"code",
      "source":[
        "df_2017_cal_tex.to_csv('California&Texas_2017_data.csv')"
      ],
      "execution_count":17,
      "outputs":[
        
      ],
      "metadata":{
        "jupyter":{
          "source_hidden":false,
          "outputs_hidden":false
        },
        "datalore":{
          "type":"CODE",
          "sheet_delimiter":false
        }
      }
    },
    {
      "cell_type":"code",
      "source":[
        "# TODO 05 - how much total sales, average sales, and standard deviation of sales your company make in 2017\n",
        "df_2017 = df[df['Order Date'].isin(pd.date_range('1\/1\/2017', '12\/31\/2017'))]\n",
        "df_2017_sales = df_2017[['Sales']]\n",
        "df_2017_sales.agg(['sum', 'mean', 'std'])"
      ],
      "execution_count":18,
      "outputs":[
        {
          "data":{
            "text\/html":[
              "<div>\n",
              "<style scoped>\n",
              "    .dataframe tbody tr th:only-of-type {\n",
              "        vertical-align: middle;\n",
              "    }\n",
              "\n",
              "    .dataframe tbody tr th {\n",
              "        vertical-align: top;\n",
              "    }\n",
              "\n",
              "    .dataframe thead th {\n",
              "        text-align: right;\n",
              "    }\n",
              "<\/style>\n",
              "<table border=\"1\" class=\"dataframe\">\n",
              "  <thead>\n",
              "    <tr style=\"text-align: right;\">\n",
              "      <th><\/th>\n",
              "      <th>Sales<\/th>\n",
              "    <\/tr>\n",
              "  <\/thead>\n",
              "  <tbody>\n",
              "    <tr>\n",
              "      <th>sum<\/th>\n",
              "      <td>484247.498100<\/td>\n",
              "    <\/tr>\n",
              "    <tr>\n",
              "      <th>mean<\/th>\n",
              "      <td>242.974159<\/td>\n",
              "    <\/tr>\n",
              "    <tr>\n",
              "      <th>std<\/th>\n",
              "      <td>754.053357<\/td>\n",
              "    <\/tr>\n",
              "  <\/tbody>\n",
              "<\/table>\n",
              "<\/div>"
            ]
          },
          "metadata":{
            
          },
          "output_type":"display_data"
        }
      ],
      "metadata":{
        "jupyter":{
          "source_hidden":false,
          "outputs_hidden":false
        },
        "datalore":{
          "type":"CODE",
          "sheet_delimiter":false
        }
      }
    },
    {
      "cell_type":"code",
      "source":[
        "# TODO 06 - which Segment has the highest profit in 2018\n",
        "df_2018 = df[df['Order Date'].isin(pd.date_range('1\/1\/2018', '12\/31\/2018'))]\n",
        "df_2018.groupby('Segment')['Profit'].sum().sort_values(ascending=False).head(1)"
      ],
      "execution_count":19,
      "outputs":[
        {
          "data":{
            "text\/html":[
              
            ]
          },
          "metadata":{
            
          },
          "output_type":"display_data"
        }
      ],
      "metadata":{
        "jupyter":{
          "source_hidden":false,
          "outputs_hidden":false
        },
        "datalore":{
          "type":"CODE",
          "sheet_delimiter":false
        }
      }
    },
    {
      "cell_type":"code",
      "source":[
        "# TODO 07 - which top 5 States have the least total sales between 15 April 2019 - 31 December 2019\n",
        "df_2019_apr_dec = df[df['Order Date'].isin(pd.date_range('4\/15\/2019', '12\/31\/2019'))]\n",
        "df_2019_apr_dec.groupby('State')['Sales'].sum().sort_values().head()"
      ],
      "execution_count":20,
      "outputs":[
        {
          "data":{
            "text\/html":[
              
            ]
          },
          "metadata":{
            
          },
          "output_type":"display_data"
        }
      ],
      "metadata":{
        "jupyter":{
          "source_hidden":false,
          "outputs_hidden":false
        },
        "datalore":{
          "type":"CODE",
          "sheet_delimiter":false
        }
      }
    },
    {
      "cell_type":"code",
      "source":[
        "# TODO 08 - what is the proportion of total sales (%) in West + Central in 2019 e.g. 25% \n",
        "df_2019 = df[df['Order Date'].isin(pd.date_range('1\/1\/2019', '12\/31\/2019'))]\n",
        "df_2019_region_sales = df_2019.groupby('Region')['Sales'].sum()\n",
        "df_2019_region_sales_proportion = df_2019_region_sales \/ df_2019_region_sales.sum() * 100\n",
        "df_2019_region_sales_proportion.name = 'Sales (%)'\n",
        "df_2019_region_sales_proportion"
      ],
      "execution_count":21,
      "outputs":[
        {
          "data":{
            "text\/html":[
              
            ]
          },
          "metadata":{
            
          },
          "output_type":"display_data"
        }
      ],
      "metadata":{
        "jupyter":{
          "source_hidden":false,
          "outputs_hidden":false
        },
        "datalore":{
          "type":"CODE",
          "sheet_delimiter":false
        }
      }
    },
    {
      "cell_type":"code",
      "source":[
        "result_08 = df_2019_region_sales_proportion['Central'] + df_2019_region_sales_proportion['West']\n",
        "print(f'the proportion of total sales (%) in West + Central in 2019 is {round(result_08)}%')"
      ],
      "execution_count":22,
      "outputs":[
        {
          "name":"stdout",
          "text":[
            "the proportion of total sales (%) in West + Central in 2019 is 55%\n"
          ],
          "output_type":"stream"
        }
      ],
      "metadata":{
        "jupyter":{
          "source_hidden":false,
          "outputs_hidden":false
        },
        "datalore":{
          "type":"CODE",
          "sheet_delimiter":false
        }
      }
    },
    {
      "cell_type":"code",
      "source":[
        "# TODO 09 - find top 10 popular products in terms of number of orders vs. total sales during 2019-2020\n",
        "df_2019_2020 = df[df['Order Date'].isin(pd.date_range('1\/1\/2019', '12\/31\/2020'))]\n",
        "\n",
        "# find top 10 popular products in terms of number of orders\n",
        "df_2019_2020_top_products_count = df_2019_2020.value_counts('Product Name', ascending=False).head(10)\n",
        "df_2019_2020_top_products_count.name = 'Number of Orders'\n",
        "number_of_orders = df_2019_2020_top_products_count.to_frame()\n",
        "number_of_orders"
      ],
      "execution_count":23,
      "outputs":[
        {
          "data":{
            "text\/html":[
              "<div>\n",
              "<style scoped>\n",
              "    .dataframe tbody tr th:only-of-type {\n",
              "        vertical-align: middle;\n",
              "    }\n",
              "\n",
              "    .dataframe tbody tr th {\n",
              "        vertical-align: top;\n",
              "    }\n",
              "\n",
              "    .dataframe thead th {\n",
              "        text-align: right;\n",
              "    }\n",
              "<\/style>\n",
              "<table border=\"1\" class=\"dataframe\">\n",
              "  <thead>\n",
              "    <tr style=\"text-align: right;\">\n",
              "      <th><\/th>\n",
              "      <th>Number of Orders<\/th>\n",
              "    <\/tr>\n",
              "    <tr>\n",
              "      <th>Product Name<\/th>\n",
              "      <th><\/th>\n",
              "    <\/tr>\n",
              "  <\/thead>\n",
              "  <tbody>\n",
              "    <tr>\n",
              "      <th>Easy-staple paper<\/th>\n",
              "      <td>27<\/td>\n",
              "    <\/tr>\n",
              "    <tr>\n",
              "      <th>Staples<\/th>\n",
              "      <td>24<\/td>\n",
              "    <\/tr>\n",
              "    <tr>\n",
              "      <th>Staple envelope<\/th>\n",
              "      <td>22<\/td>\n",
              "    <\/tr>\n",
              "    <tr>\n",
              "      <th>Staples in misc. colors<\/th>\n",
              "      <td>13<\/td>\n",
              "    <\/tr>\n",
              "    <tr>\n",
              "      <th>Staple remover<\/th>\n",
              "      <td>12<\/td>\n",
              "    <\/tr>\n",
              "    <tr>\n",
              "      <th>Storex Dura Pro Binders<\/th>\n",
              "      <td>12<\/td>\n",
              "    <\/tr>\n",
              "    <tr>\n",
              "      <th>Chromcraft Round Conference Tables<\/th>\n",
              "      <td>12<\/td>\n",
              "    <\/tr>\n",
              "    <tr>\n",
              "      <th>Global Wood Trimmed Manager's Task Chair, Khaki<\/th>\n",
              "      <td>11<\/td>\n",
              "    <\/tr>\n",
              "    <tr>\n",
              "      <th>Avery Non-Stick Binders<\/th>\n",
              "      <td>11<\/td>\n",
              "    <\/tr>\n",
              "    <tr>\n",
              "      <th>Staple-based wall hangings<\/th>\n",
              "      <td>10<\/td>\n",
              "    <\/tr>\n",
              "  <\/tbody>\n",
              "<\/table>\n",
              "<\/div>"
            ]
          },
          "metadata":{
            
          },
          "output_type":"display_data"
        }
      ],
      "metadata":{
        "jupyter":{
          "source_hidden":false,
          "outputs_hidden":false
        },
        "datalore":{
          "type":"CODE",
          "sheet_delimiter":false
        }
      }
    },
    {
      "cell_type":"code",
      "source":[
        "top_products_index = df_2019_2020_top_products_count.index\n",
        "df_2019_2020_top_products = df_2019_2020[df_2019_2020['Product Name'].isin(top_products_index)]\n",
        "\n",
        "# total sales during 2019-2020\n",
        "df_2019_2020_top_products_sales = df_2019_2020_top_products.groupby('Product Name')['Sales'].sum()\n",
        "df_2019_2020_top_products_sales.name = 'Total Sales'\n",
        "total_sales = df_2019_2020_top_products_sales.to_frame()\n",
        "total_sales"
      ],
      "execution_count":24,
      "outputs":[
        {
          "data":{
            "text\/html":[
              "<div>\n",
              "<style scoped>\n",
              "    .dataframe tbody tr th:only-of-type {\n",
              "        vertical-align: middle;\n",
              "    }\n",
              "\n",
              "    .dataframe tbody tr th {\n",
              "        vertical-align: top;\n",
              "    }\n",
              "\n",
              "    .dataframe thead th {\n",
              "        text-align: right;\n",
              "    }\n",
              "<\/style>\n",
              "<table border=\"1\" class=\"dataframe\">\n",
              "  <thead>\n",
              "    <tr style=\"text-align: right;\">\n",
              "      <th><\/th>\n",
              "      <th>Total Sales<\/th>\n",
              "    <\/tr>\n",
              "    <tr>\n",
              "      <th>Product Name<\/th>\n",
              "      <th><\/th>\n",
              "    <\/tr>\n",
              "  <\/thead>\n",
              "  <tbody>\n",
              "    <tr>\n",
              "      <th>Avery Non-Stick Binders<\/th>\n",
              "      <td>122.128<\/td>\n",
              "    <\/tr>\n",
              "    <tr>\n",
              "      <th>Chromcraft Round Conference Tables<\/th>\n",
              "      <td>7965.053<\/td>\n",
              "    <\/tr>\n",
              "    <tr>\n",
              "      <th>Easy-staple paper<\/th>\n",
              "      <td>1481.728<\/td>\n",
              "    <\/tr>\n",
              "    <tr>\n",
              "      <th>Global Wood Trimmed Manager's Task Chair, Khaki<\/th>\n",
              "      <td>2793.086<\/td>\n",
              "    <\/tr>\n",
              "    <tr>\n",
              "      <th>Staple envelope<\/th>\n",
              "      <td>644.936<\/td>\n",
              "    <\/tr>\n",
              "    <tr>\n",
              "      <th>Staple remover<\/th>\n",
              "      <td>204.512<\/td>\n",
              "    <\/tr>\n",
              "    <tr>\n",
              "      <th>Staple-based wall hangings<\/th>\n",
              "      <td>233.392<\/td>\n",
              "    <\/tr>\n",
              "    <tr>\n",
              "      <th>Staples<\/th>\n",
              "      <td>462.068<\/td>\n",
              "    <\/tr>\n",
              "    <tr>\n",
              "      <th>Staples in misc. colors<\/th>\n",
              "      <td>357.164<\/td>\n",
              "    <\/tr>\n",
              "    <tr>\n",
              "      <th>Storex Dura Pro Binders<\/th>\n",
              "      <td>176.418<\/td>\n",
              "    <\/tr>\n",
              "  <\/tbody>\n",
              "<\/table>\n",
              "<\/div>"
            ]
          },
          "metadata":{
            
          },
          "output_type":"display_data"
        }
      ],
      "metadata":{
        "jupyter":{
          "source_hidden":false,
          "outputs_hidden":false
        },
        "datalore":{
          "type":"CODE",
          "sheet_delimiter":false
        }
      }
    },
    {
      "cell_type":"code",
      "source":[
        "# merge dataframes\n",
        "df_2019_2020_top_products_merged = pd.merge(number_of_orders, total_sales, on='Product Name')\n",
        "df_2019_2020_top_products_merged.reset_index()"
      ],
      "execution_count":25,
      "outputs":[
        {
          "data":{
            "text\/html":[
              "<div>\n",
              "<style scoped>\n",
              "    .dataframe tbody tr th:only-of-type {\n",
              "        vertical-align: middle;\n",
              "    }\n",
              "\n",
              "    .dataframe tbody tr th {\n",
              "        vertical-align: top;\n",
              "    }\n",
              "\n",
              "    .dataframe thead th {\n",
              "        text-align: right;\n",
              "    }\n",
              "<\/style>\n",
              "<table border=\"1\" class=\"dataframe\">\n",
              "  <thead>\n",
              "    <tr style=\"text-align: right;\">\n",
              "      <th><\/th>\n",
              "      <th>Product Name<\/th>\n",
              "      <th>Number of Orders<\/th>\n",
              "      <th>Total Sales<\/th>\n",
              "    <\/tr>\n",
              "  <\/thead>\n",
              "  <tbody>\n",
              "    <tr>\n",
              "      <th>0<\/th>\n",
              "      <td>Easy-staple paper<\/td>\n",
              "      <td>27<\/td>\n",
              "      <td>1481.728<\/td>\n",
              "    <\/tr>\n",
              "    <tr>\n",
              "      <th>1<\/th>\n",
              "      <td>Staples<\/td>\n",
              "      <td>24<\/td>\n",
              "      <td>462.068<\/td>\n",
              "    <\/tr>\n",
              "    <tr>\n",
              "      <th>2<\/th>\n",
              "      <td>Staple envelope<\/td>\n",
              "      <td>22<\/td>\n",
              "      <td>644.936<\/td>\n",
              "    <\/tr>\n",
              "    <tr>\n",
              "      <th>3<\/th>\n",
              "      <td>Staples in misc. colors<\/td>\n",
              "      <td>13<\/td>\n",
              "      <td>357.164<\/td>\n",
              "    <\/tr>\n",
              "    <tr>\n",
              "      <th>4<\/th>\n",
              "      <td>Staple remover<\/td>\n",
              "      <td>12<\/td>\n",
              "      <td>204.512<\/td>\n",
              "    <\/tr>\n",
              "    <tr>\n",
              "      <th>5<\/th>\n",
              "      <td>Storex Dura Pro Binders<\/td>\n",
              "      <td>12<\/td>\n",
              "      <td>176.418<\/td>\n",
              "    <\/tr>\n",
              "    <tr>\n",
              "      <th>6<\/th>\n",
              "      <td>Chromcraft Round Conference Tables<\/td>\n",
              "      <td>12<\/td>\n",
              "      <td>7965.053<\/td>\n",
              "    <\/tr>\n",
              "    <tr>\n",
              "      <th>7<\/th>\n",
              "      <td>Global Wood Trimmed Manager's Task Chair, Khaki<\/td>\n",
              "      <td>11<\/td>\n",
              "      <td>2793.086<\/td>\n",
              "    <\/tr>\n",
              "    <tr>\n",
              "      <th>8<\/th>\n",
              "      <td>Avery Non-Stick Binders<\/td>\n",
              "      <td>11<\/td>\n",
              "      <td>122.128<\/td>\n",
              "    <\/tr>\n",
              "    <tr>\n",
              "      <th>9<\/th>\n",
              "      <td>Staple-based wall hangings<\/td>\n",
              "      <td>10<\/td>\n",
              "      <td>233.392<\/td>\n",
              "    <\/tr>\n",
              "  <\/tbody>\n",
              "<\/table>\n",
              "<\/div>"
            ]
          },
          "metadata":{
            
          },
          "output_type":"display_data"
        }
      ],
      "metadata":{
        "jupyter":{
          "source_hidden":false,
          "outputs_hidden":false
        },
        "datalore":{
          "type":"CODE",
          "sheet_delimiter":false
        }
      }
    },
    {
      "cell_type":"code",
      "source":[
        "# TODO 10 - plot at least 2 plots, any plot you think interesting :)\n",
        "\n",
        "# 1st plot - top 10 popular products in terms of number of orders vs. total sales during 2019-2020\n",
        "df_top_products = df_2019_2020_top_products_merged\n",
        "df_top_products['Total Sales'].plot(kind='bar',\n",
        "                                    title='Total sales of top 10 popular products during 2019-2020',\n",
        "                                    ylabel='Total Sales');"
      ],
      "execution_count":26,
      "outputs":[
        {
          "data":{
            "image\/png":"[encoded data removed]"
          },
          "metadata":{
            "image\/png":{
              
            }
          },
          "output_type":"display_data"
        }
      ],
      "metadata":{
        "jupyter":{
          "source_hidden":false,
          "outputs_hidden":false
        },
        "datalore":{
          "type":"CODE",
          "sheet_delimiter":false
        }
      }
    },
    {
      "cell_type":"code",
      "source":[
        "# 2nd plot - Profit vs Sales of Easy-staple paper in 2020\n",
        "df_2020 = df[df['Order Date'].isin(pd.date_range('1\/1\/2020', '12\/31\/2020'))]\n",
        "df_2020[df_2020['Product Name'] == 'Easy-staple paper'][['Sales', 'Profit']]\\\n",
        "    .plot(x='Sales', y='Profit', kind=\"scatter\", color=\"orange\");"
      ],
      "execution_count":27,
      "outputs":[
        {
          "data":{
            "image\/png":"[encoded data removed]"
          },
          "metadata":{
            "image\/png":{
              
            }
          },
          "output_type":"display_data"
        }
      ],
      "metadata":{
        "jupyter":{
          "source_hidden":false,
          "outputs_hidden":false
        },
        "datalore":{
          "type":"CODE",
          "sheet_delimiter":false
        }
      }
    },
    {
      "cell_type":"code",
      "source":[
        "# TODO Bonus - use np.where() to create new column in dataframe to help you answer your own questions\n",
        "\n",
        "# Is each order profitable?\n",
        "import numpy as np\n",
        "df_profit = df.loc[:, ['Order ID', 'Order Date', 'Ship Date', 'Profit']]\n",
        "df_profit['Profitable?'] = np.where(df_profit['Profit'] >= 0, True, False)\n",
        "df_profit"
      ],
      "execution_count":28,
      "outputs":[
        {
          "data":{
            "text\/html":[
              "<div>\n",
              "<style scoped>\n",
              "    .dataframe tbody tr th:only-of-type {\n",
              "        vertical-align: middle;\n",
              "    }\n",
              "\n",
              "    .dataframe tbody tr th {\n",
              "        vertical-align: top;\n",
              "    }\n",
              "\n",
              "    .dataframe thead th {\n",
              "        text-align: right;\n",
              "    }\n",
              "<\/style>\n",
              "<table border=\"1\" class=\"dataframe\">\n",
              "  <thead>\n",
              "    <tr style=\"text-align: right;\">\n",
              "      <th><\/th>\n",
              "      <th>Order ID<\/th>\n",
              "      <th>Order Date<\/th>\n",
              "      <th>Ship Date<\/th>\n",
              "      <th>Profit<\/th>\n",
              "      <th>Profitable?<\/th>\n",
              "    <\/tr>\n",
              "  <\/thead>\n",
              "  <tbody>\n",
              "    <tr>\n",
              "      <th>0<\/th>\n",
              "      <td>CA-2019-152156<\/td>\n",
              "      <td>2019-11-08<\/td>\n",
              "      <td>2019-11-11<\/td>\n",
              "      <td>41.9136<\/td>\n",
              "      <td>True<\/td>\n",
              "    <\/tr>\n",
              "    <tr>\n",
              "      <th>1<\/th>\n",
              "      <td>CA-2019-152156<\/td>\n",
              "      <td>2019-11-08<\/td>\n",
              "      <td>2019-11-11<\/td>\n",
              "      <td>219.5820<\/td>\n",
              "      <td>True<\/td>\n",
              "    <\/tr>\n",
              "    <tr>\n",
              "      <th>2<\/th>\n",
              "      <td>CA-2019-138688<\/td>\n",
              "      <td>2019-06-12<\/td>\n",
              "      <td>2019-06-16<\/td>\n",
              "      <td>6.8714<\/td>\n",
              "      <td>True<\/td>\n",
              "    <\/tr>\n",
              "    <tr>\n",
              "      <th>3<\/th>\n",
              "      <td>US-2018-108966<\/td>\n",
              "      <td>2018-10-11<\/td>\n",
              "      <td>2018-10-18<\/td>\n",
              "      <td>-383.0310<\/td>\n",
              "      <td>False<\/td>\n",
              "    <\/tr>\n",
              "    <tr>\n",
              "      <th>4<\/th>\n",
              "      <td>US-2018-108966<\/td>\n",
              "      <td>2018-10-11<\/td>\n",
              "      <td>2018-10-18<\/td>\n",
              "      <td>2.5164<\/td>\n",
              "      <td>True<\/td>\n",
              "    <\/tr>\n",
              "    <tr>\n",
              "      <th>...<\/th>\n",
              "      <td>...<\/td>\n",
              "      <td>...<\/td>\n",
              "      <td>...<\/td>\n",
              "      <td>...<\/td>\n",
              "      <td>...<\/td>\n",
              "    <\/tr>\n",
              "    <tr>\n",
              "      <th>9989<\/th>\n",
              "      <td>CA-2017-110422<\/td>\n",
              "      <td>2017-01-21<\/td>\n",
              "      <td>2017-01-23<\/td>\n",
              "      <td>4.1028<\/td>\n",
              "      <td>True<\/td>\n",
              "    <\/tr>\n",
              "    <tr>\n",
              "      <th>9990<\/th>\n",
              "      <td>CA-2020-121258<\/td>\n",
              "      <td>2020-02-26<\/td>\n",
              "      <td>2020-03-03<\/td>\n",
              "      <td>15.6332<\/td>\n",
              "      <td>True<\/td>\n",
              "    <\/tr>\n",
              "    <tr>\n",
              "      <th>9991<\/th>\n",
              "      <td>CA-2020-121258<\/td>\n",
              "      <td>2020-02-26<\/td>\n",
              "      <td>2020-03-03<\/td>\n",
              "      <td>19.3932<\/td>\n",
              "      <td>True<\/td>\n",
              "    <\/tr>\n",
              "    <tr>\n",
              "      <th>9992<\/th>\n",
              "      <td>CA-2020-121258<\/td>\n",
              "      <td>2020-02-26<\/td>\n",
              "      <td>2020-03-03<\/td>\n",
              "      <td>13.3200<\/td>\n",
              "      <td>True<\/td>\n",
              "    <\/tr>\n",
              "    <tr>\n",
              "      <th>9993<\/th>\n",
              "      <td>CA-2020-119914<\/td>\n",
              "      <td>2020-05-04<\/td>\n",
              "      <td>2020-05-09<\/td>\n",
              "      <td>72.9480<\/td>\n",
              "      <td>True<\/td>\n",
              "    <\/tr>\n",
              "  <\/tbody>\n",
              "<\/table>\n",
              "<p>9994 rows × 5 columns<\/p>\n",
              "<\/div>"
            ]
          },
          "metadata":{
            
          },
          "output_type":"display_data"
        }
      ],
      "metadata":{
        "jupyter":{
          "source_hidden":false,
          "outputs_hidden":false
        },
        "datalore":{
          "type":"CODE",
          "sheet_delimiter":false
        }
      }
    }
  ],
  "metadata":{
    "datalore":{
      "version":1,
      "computation_mode":"JUPYTER",
      "package_manager":"pip",
      "base_environment":"default",
      "packages":[
        
      ]
    }
  },
  "nbformat":4,
  "nbformat_minor":4
}